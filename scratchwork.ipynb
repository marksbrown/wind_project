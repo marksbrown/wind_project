{
 "cells": [
  {
   "cell_type": "markdown",
   "metadata": {},
   "source": [
    "# Scratchwork\n",
    "\n",
    "In this file I will leave useful snippets of code to discuss the parsing approach taken.\n",
    "This is useful for determining decisions made later on for writing up a method."
   ]
  },
  {
   "cell_type": "markdown",
   "metadata": {},
   "source": [
    "## Parsing the header\n",
    "\n",
    "Here I've written a short section to show how the header names were figured out.\n",
    "This is not a good method if the header of the files is liable to change.\n",
    "For that we would need to pass this off to pandas with luck."
   ]
  },
  {
   "cell_type": "code",
   "execution_count": 1,
   "metadata": {},
   "outputs": [
    {
     "name": "stdout",
     "output_type": "stream",
     "text": [
      "13 ['QC', 'Height', 'WS', 'WD', 'u', 'v', 'w', 'No. in Cns SW', 'No. in Cns NW', 'No. in Cns V', 'SNR (db) SW', 'SNR (db) NW', 'SNR (db) V']\n"
     ]
    }
   ],
   "source": [
    "blurb = \"\"\"\n",
    "QC   Height    WS     WD      u       v       w    No. in Cns      SNR (db)     \n",
    "Code (m msl) (m/s)  (deg)   (m/s)   (m/s)   (m/s)  SW  NW   V   SW   NW   V     \n",
    "0009     25         9                                   \n",
    " 0    213      8.2    96.   -8.17    0.83    0.33   5   5   5   16   16   14\n",
    "\"\"\"\n",
    "blurb = blurb.replace('m msl', 'm_msl')  # delightful\n",
    "\n",
    "rows = [row.split() for row in blurb.split('\\n') if row]\n",
    "header = rows[0][:7]\n",
    "\n",
    "repeats = ('SW', 'NW', 'V')\n",
    "for v in ('No. in Cns', 'SNR (db)'):\n",
    "    for r in repeats:\n",
    "        header.append(f\"{v} {r}\")\n",
    "\n",
    "print(len(header), header)"
   ]
  },
  {
   "cell_type": "code",
   "execution_count": null,
   "metadata": {},
   "outputs": [],
   "source": []
  }
 ],
 "metadata": {
  "kernelspec": {
   "display_name": "Python 3",
   "language": "python",
   "name": "python3"
  },
  "language_info": {
   "codemirror_mode": {
    "name": "ipython",
    "version": 3
   },
   "file_extension": ".py",
   "mimetype": "text/x-python",
   "name": "python",
   "nbconvert_exporter": "python",
   "pygments_lexer": "ipython3",
   "version": "3.6.9"
  }
 },
 "nbformat": 4,
 "nbformat_minor": 2
}
