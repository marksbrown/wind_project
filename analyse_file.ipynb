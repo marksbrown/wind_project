{
 "cells": [
  {
   "cell_type": "markdown",
   "metadata": {},
   "source": [
    "# Analyse File Structure\n",
    "\n",
    "In this notebook I will explore :\n",
    "* How to load data\n",
    "* How to verify data"
   ]
  },
  {
   "cell_type": "code",
   "execution_count": 58,
   "metadata": {},
   "outputs": [
    {
     "name": "stdout",
     "output_type": "stream",
     "text": [
      "The autoreload extension is already loaded. To reload it, use:\n",
      "  %reload_ext autoreload\n",
      "Complete!\n"
     ]
    }
   ],
   "source": [
    "import os\n",
    "\n",
    "%load_ext autoreload\n",
    "import utils as ut  # we'll store functions that work in here!\n",
    "%autoreload 2\n",
    "\n",
    "import pandas as pd\n",
    "from matplotlib.pyplot import subplots, show\n",
    "\n",
    "print(\"Complete!\")"
   ]
  },
  {
   "cell_type": "markdown",
   "metadata": {},
   "source": [
    "## Structure of data\n",
    "\n",
    "Looking into the file we see the data begins with a time in 24 hour with two other points,\n",
    "followed by rows of data.\n",
    "\n",
    "    0010     25         9                                   \n",
    "     0    459     11.9   137.   -8.11    8.68    0.25   5   5   5    8    9    7\n",
    "\n",
    "\n",
    "This is repeated for various times.\n",
    "First thereforee we will parse these into time-based dictionaries."
   ]
  },
  {
   "cell_type": "code",
   "execution_count": 59,
   "metadata": {
    "tags": []
   },
   "outputs": [
    {
     "name": "stdout",
     "output_type": "stream",
     "text": [
      "data/20100715-0716 CONSON/WP SSP\n",
      "kai00715.w3a\n",
      "0010\n",
      "0020\n",
      "0030\n",
      "0040\n",
      "0050\n",
      "0100\n",
      "0110\n",
      "0120\n",
      "0129\n",
      "0140\n",
      "0150\n",
      "0200\n"
     ]
    }
   ],
   "source": [
    "for path, fn, data in ut.get_data():\n",
    "    for j, key in enumerate(data.keys()):\n",
    "        print(key)\n",
    "        if j > 10:\n",
    "            break\n",
    "    break"
   ]
  },
  {
   "cell_type": "markdown",
   "metadata": {},
   "source": [
    "## Parsing rows\n",
    "\n",
    "next we need to set datatypes for each row item correctly and then throw the damnable thing at Pandas.\n",
    "\n",
    "    QC   Height    WS     WD      u       v       w    No. in Cns      SNR (db)     \n",
    "    Code (m msl) (m/s)  (deg)   (m/s)   (m/s)   (m/s)  SW  NW   V   SW   NW   V     \n",
    "    0009     25         9                                   \n",
    "     0    213      8.2    96.   -8.17    0.83    0.33   5   5   5   16   16   14\n",
    "     \n",
    "Here is what we will use and assume the header remains fixed.\n",
    "I have written a function :degrees: to ensure the odd '-950' result forces a None return instead."
   ]
  },
  {
   "cell_type": "code",
   "execution_count": 36,
   "metadata": {},
   "outputs": [
    {
     "data": {
      "text/plain": [
       "{'QC': int,\n",
       " 'Height': int,\n",
       " 'WS': float,\n",
       " 'WD': <function utils.degrees(value, dtype=<class 'int'>)>,\n",
       " 'u': float,\n",
       " 'v': float,\n",
       " 'w': float,\n",
       " 'No. in Cns SW': int,\n",
       " 'No. in Cns NW': int,\n",
       " 'No. in Cns V': int,\n",
       " 'SNR (db) SW': int,\n",
       " 'SNR (db) NW': int,\n",
       " 'SNR (db) V': int}"
      ]
     },
     "execution_count": 36,
     "metadata": {},
     "output_type": "execute_result"
    }
   ],
   "source": [
    "ut.HEADER"
   ]
  },
  {
   "cell_type": "code",
   "execution_count": 60,
   "metadata": {},
   "outputs": [
    {
     "name": "stdout",
     "output_type": "stream",
     "text": [
      "data/20100715-0716 CONSON/WP SSP\n",
      "kai00715.w3a\n"
     ]
    },
    {
     "data": {
      "text/html": [
       "<div>\n",
       "<style scoped>\n",
       "    .dataframe tbody tr th:only-of-type {\n",
       "        vertical-align: middle;\n",
       "    }\n",
       "\n",
       "    .dataframe tbody tr th {\n",
       "        vertical-align: top;\n",
       "    }\n",
       "\n",
       "    .dataframe thead th {\n",
       "        text-align: right;\n",
       "    }\n",
       "</style>\n",
       "<table border=\"1\" class=\"dataframe\">\n",
       "  <thead>\n",
       "    <tr style=\"text-align: right;\">\n",
       "      <th></th>\n",
       "      <th></th>\n",
       "      <th>QC</th>\n",
       "      <th>WS</th>\n",
       "      <th>WD</th>\n",
       "      <th>u</th>\n",
       "      <th>v</th>\n",
       "      <th>w</th>\n",
       "      <th>No. in Cns SW</th>\n",
       "      <th>No. in Cns NW</th>\n",
       "      <th>No. in Cns V</th>\n",
       "      <th>SNR (db) SW</th>\n",
       "      <th>SNR (db) NW</th>\n",
       "      <th>SNR (db) V</th>\n",
       "    </tr>\n",
       "    <tr>\n",
       "      <th>time</th>\n",
       "      <th>height</th>\n",
       "      <th></th>\n",
       "      <th></th>\n",
       "      <th></th>\n",
       "      <th></th>\n",
       "      <th></th>\n",
       "      <th></th>\n",
       "      <th></th>\n",
       "      <th></th>\n",
       "      <th></th>\n",
       "      <th></th>\n",
       "      <th></th>\n",
       "      <th></th>\n",
       "    </tr>\n",
       "  </thead>\n",
       "  <tbody>\n",
       "    <tr>\n",
       "      <th rowspan=\"5\" valign=\"top\">0010</th>\n",
       "      <th>315</th>\n",
       "      <td>0</td>\n",
       "      <td>11.4</td>\n",
       "      <td>82.0</td>\n",
       "      <td>-11.24</td>\n",
       "      <td>-1.66</td>\n",
       "      <td>0.3</td>\n",
       "      <td>5</td>\n",
       "      <td>6</td>\n",
       "      <td>6</td>\n",
       "      <td>7</td>\n",
       "      <td>6</td>\n",
       "      <td>4</td>\n",
       "    </tr>\n",
       "    <tr>\n",
       "      <th>518</th>\n",
       "      <td>0</td>\n",
       "      <td>13.0</td>\n",
       "      <td>81.0</td>\n",
       "      <td>-12.86</td>\n",
       "      <td>-2.06</td>\n",
       "      <td>0.2</td>\n",
       "      <td>6</td>\n",
       "      <td>5</td>\n",
       "      <td>6</td>\n",
       "      <td>19</td>\n",
       "      <td>11</td>\n",
       "      <td>10</td>\n",
       "    </tr>\n",
       "    <tr>\n",
       "      <th>720</th>\n",
       "      <td>0</td>\n",
       "      <td>13.0</td>\n",
       "      <td>78.0</td>\n",
       "      <td>-12.72</td>\n",
       "      <td>-2.79</td>\n",
       "      <td>0.1</td>\n",
       "      <td>6</td>\n",
       "      <td>6</td>\n",
       "      <td>6</td>\n",
       "      <td>27</td>\n",
       "      <td>10</td>\n",
       "      <td>9</td>\n",
       "    </tr>\n",
       "    <tr>\n",
       "      <th>923</th>\n",
       "      <td>0</td>\n",
       "      <td>14.8</td>\n",
       "      <td>95.0</td>\n",
       "      <td>-14.73</td>\n",
       "      <td>1.27</td>\n",
       "      <td>0.6</td>\n",
       "      <td>5</td>\n",
       "      <td>6</td>\n",
       "      <td>6</td>\n",
       "      <td>10</td>\n",
       "      <td>11</td>\n",
       "      <td>10</td>\n",
       "    </tr>\n",
       "    <tr>\n",
       "      <th>1125</th>\n",
       "      <td>0</td>\n",
       "      <td>12.6</td>\n",
       "      <td>99.0</td>\n",
       "      <td>-12.46</td>\n",
       "      <td>2.06</td>\n",
       "      <td>0.3</td>\n",
       "      <td>6</td>\n",
       "      <td>6</td>\n",
       "      <td>6</td>\n",
       "      <td>9</td>\n",
       "      <td>10</td>\n",
       "      <td>8</td>\n",
       "    </tr>\n",
       "  </tbody>\n",
       "</table>\n",
       "</div>"
      ],
      "text/plain": [
       "             QC    WS    WD      u     v    w  No. in Cns SW  No. in Cns NW  \\\n",
       "time height                                                                   \n",
       "0010 315      0  11.4  82.0 -11.24 -1.66  0.3              5              6   \n",
       "     518      0  13.0  81.0 -12.86 -2.06  0.2              6              5   \n",
       "     720      0  13.0  78.0 -12.72 -2.79  0.1              6              6   \n",
       "     923      0  14.8  95.0 -14.73  1.27  0.6              5              6   \n",
       "     1125     0  12.6  99.0 -12.46  2.06  0.3              6              6   \n",
       "\n",
       "             No. in Cns V  SNR (db) SW  SNR (db) NW  SNR (db) V  \n",
       "time height                                                      \n",
       "0010 315                6            7            6           4  \n",
       "     518                6           19           11          10  \n",
       "     720                6           27           10           9  \n",
       "     923                6           10           11          10  \n",
       "     1125               6            9           10           8  "
      ]
     },
     "execution_count": 60,
     "metadata": {},
     "output_type": "execute_result"
    }
   ],
   "source": [
    "def load_data_into_frame(data):\n",
    "    frames = {}\n",
    "    for time in data:\n",
    "        ##t = pd.to_datetime(time, format=\"%H%M\").time()\n",
    "        t = time\n",
    "        frames[t] = pd.DataFrame(data[time], columns=ut.HEADER.keys())\n",
    "        \n",
    "        for row in frames[t]:\n",
    "            frames[t][row] = frames[t][row].apply(ut.HEADER[row])\n",
    "        frames[t].set_index('Height', inplace=True)\n",
    "        \n",
    "    df = pd.concat(frames, axis=0, names=[\"time\", \"height\"])\n",
    "    return df\n",
    "    \n",
    "for path, fn, data in ut.get_data():\n",
    "    df = load_data_into_frame(data)\n",
    "    break\n",
    "    \n",
    "df.head()"
   ]
  },
  {
   "cell_type": "code",
   "execution_count": null,
   "metadata": {},
   "outputs": [],
   "source": []
  }
 ],
 "metadata": {
  "interpreter": {
   "hash": "31f2aee4e71d21fbe5cf8b01ff0e069b9275f58929596ceb00d14d90e3e16cd6"
  },
  "kernelspec": {
   "display_name": "Python 3",
   "language": "python",
   "name": "python3"
  },
  "language_info": {
   "codemirror_mode": {
    "name": "ipython",
    "version": 3
   },
   "file_extension": ".py",
   "mimetype": "text/x-python",
   "name": "python",
   "nbconvert_exporter": "python",
   "pygments_lexer": "ipython3",
   "version": "3.6.9"
  }
 },
 "nbformat": 4,
 "nbformat_minor": 2
}
